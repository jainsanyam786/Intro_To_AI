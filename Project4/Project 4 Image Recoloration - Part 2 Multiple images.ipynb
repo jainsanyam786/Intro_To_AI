{
 "cells": [
  {
   "cell_type": "code",
   "execution_count": 51,
   "metadata": {},
   "outputs": [],
   "source": [
    "from keras.layers import Conv2D, Conv2DTranspose, UpSampling2D\n",
    "from keras.layers import Activation, Dense, Dropout, Flatten, InputLayer\n",
    "from keras.layers.normalization import BatchNormalization\n",
    "from keras.callbacks import TensorBoard\n",
    "from keras.models import Sequential\n",
    "from keras.preprocessing.image import ImageDataGenerator, array_to_img, img_to_array, load_img\n",
    "from skimage.color import rgb2lab, lab2rgb, rgb2gray\n",
    "from skimage.io import imsave\n",
    "import numpy as np\n",
    "import os\n",
    "import random\n",
    "import tensorflow as tf\n",
    "import matplotlib.pyplot as plt\n",
    "import skimage.io as skio\n",
    "from sklearn.model_selection import train_test_split"
   ]
  },
  {
   "cell_type": "code",
   "execution_count": 99,
   "metadata": {},
   "outputs": [],
   "source": [
    "# Get images\n",
    "trainingDataIn = []\n",
    "for filename in os.listdir('./Images/Input/'):\n",
    "    ogimage = skio.imread(fname='./Images/Input/'+filename)\n",
    "    trainingDataIn.append(ogimage)\n",
    "trainingDataIn = np.array(trainingDataIn)"
   ]
  },
  {
   "cell_type": "code",
   "execution_count": 102,
   "metadata": {},
   "outputs": [],
   "source": [
    "shuffledindex = np.random.choice(range(0,len(trainingDataIn)),len(trainingDataIn),replace=False)\n",
    "trainingindices = shuffledindex[:int(0.80*len(trainingDataIn))]\n",
    "testindices = shuffledindex[int(0.80*len(trainingDataIn)):]"
   ]
  },
  {
   "cell_type": "markdown",
   "metadata": {},
   "source": []
  },
  {
   "cell_type": "code",
   "execution_count": 103,
   "metadata": {},
   "outputs": [
    {
     "data": {
      "text/plain": [
       "array([ 91, 340, 399,  84, 501, 468, 277, 202, 397, 349, 132, 353, 287,\n",
       "       493, 220, 337, 513,  54, 128, 235, 274, 421, 471, 139, 115, 296,\n",
       "       538,   2, 531, 348, 177, 200, 108, 191,  27, 282, 330,  12,   7,\n",
       "         4, 186, 431, 425, 463, 409, 144, 343, 117, 234, 155, 150, 358,\n",
       "       222, 500, 248,  82,  86, 122, 327, 422, 104, 385, 213, 304, 516,\n",
       "       533, 276,   0, 166, 175,  20,  38,   8, 359, 433,  85, 389, 479,\n",
       "       467, 453, 263, 137, 346, 512,   1, 504, 534, 355, 169, 157, 411,\n",
       "       110, 429, 415,  29, 193, 492,  15, 450, 154, 521, 474, 437, 269,\n",
       "       316, 244,  68, 478, 273])"
      ]
     },
     "execution_count": 103,
     "metadata": {},
     "output_type": "execute_result"
    }
   ],
   "source": [
    "testindices"
   ]
  },
  {
   "cell_type": "code",
   "execution_count": 110,
   "metadata": {},
   "outputs": [],
   "source": [
    "trainImagesX = trainingDataIn[trainingindices].reshape((-1,400,400,1))\n",
    "testindicesX = trainingDataIn[testindices].reshape((-1,400,400,1))"
   ]
  },
  {
   "cell_type": "code",
   "execution_count": 111,
   "metadata": {},
   "outputs": [
    {
     "data": {
      "text/plain": [
       "(109, 400, 400, 1)"
      ]
     },
     "execution_count": 111,
     "metadata": {},
     "output_type": "execute_result"
    }
   ],
   "source": [
    "testindicesX.shape"
   ]
  },
  {
   "cell_type": "code",
   "execution_count": null,
   "metadata": {},
   "outputs": [],
   "source": []
  },
  {
   "cell_type": "code",
   "execution_count": null,
   "metadata": {},
   "outputs": [],
   "source": []
  }
 ],
 "metadata": {
  "kernelspec": {
   "display_name": "Python 3",
   "language": "python",
   "name": "python3"
  },
  "language_info": {
   "codemirror_mode": {
    "name": "ipython",
    "version": 3
   },
   "file_extension": ".py",
   "mimetype": "text/x-python",
   "name": "python",
   "nbconvert_exporter": "python",
   "pygments_lexer": "ipython3",
   "version": "3.7.9"
  }
 },
 "nbformat": 4,
 "nbformat_minor": 4
}
