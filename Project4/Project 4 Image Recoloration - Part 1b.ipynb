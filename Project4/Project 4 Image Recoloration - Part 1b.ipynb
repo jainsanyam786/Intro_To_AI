{
 "cells": [
  {
   "cell_type": "code",
   "execution_count": 1564,
   "metadata": {},
   "outputs": [],
   "source": [
    "import pickle\n",
    "import numpy as np\n",
    "import pandas as pd\n",
    "from sklearn.model_selection import KFold\n",
    "import scipy.sparse as sparse"
   ]
  },
  {
   "cell_type": "markdown",
   "metadata": {},
   "source": [
    "### Creating Training Data"
   ]
  },
  {
   "cell_type": "code",
   "execution_count": 1565,
   "metadata": {},
   "outputs": [],
   "source": [
    "tempfile = open('Variables/trainImagePatchArray.pckl', 'rb')\n",
    "trainImagePatchArray = pickle.load(tempfile)\n",
    "tempfile.close()\n",
    "trainingDataX= trainImagePatchArray.astype(int)"
   ]
  },
  {
   "cell_type": "code",
   "execution_count": 1566,
   "metadata": {},
   "outputs": [],
   "source": [
    "tempfile = open('Variables/trainingOutputImage.pckl', 'rb')\n",
    "trainingOutputImage = pickle.load(tempfile)\n",
    "tempfile.close()\n",
    "trainingOutputImage = trainingOutputImage[1:300,1:224]\n",
    "trainout = trainingOutputImage.reshape(((trainingOutputImage.shape[0]*trainingOutputImage.shape[1]),3))"
   ]
  },
  {
   "cell_type": "code",
   "execution_count": 1567,
   "metadata": {},
   "outputs": [],
   "source": [
    "tempfile = open('Variables/clusters.pckl', 'rb')\n",
    "clusters = pickle.load(tempfile)\n",
    "tempfile.close()\n",
    "colorlist = list(clusters.keys())\n",
    "colors = np.asarray(colorlist,dtype=int)"
   ]
  },
  {
   "cell_type": "code",
   "execution_count": 1568,
   "metadata": {},
   "outputs": [
    {
     "data": {
      "text/html": [
       "<div>\n",
       "<style scoped>\n",
       "    .dataframe tbody tr th:only-of-type {\n",
       "        vertical-align: middle;\n",
       "    }\n",
       "\n",
       "    .dataframe tbody tr th {\n",
       "        vertical-align: top;\n",
       "    }\n",
       "\n",
       "    .dataframe thead th {\n",
       "        text-align: right;\n",
       "    }\n",
       "</style>\n",
       "<table border=\"1\" class=\"dataframe\">\n",
       "  <thead>\n",
       "    <tr style=\"text-align: right;\">\n",
       "      <th></th>\n",
       "      <th>px1</th>\n",
       "      <th>px2</th>\n",
       "      <th>px3</th>\n",
       "      <th>px4</th>\n",
       "      <th>px5</th>\n",
       "      <th>px6</th>\n",
       "      <th>px7</th>\n",
       "      <th>px8</th>\n",
       "      <th>px9</th>\n",
       "      <th>Color</th>\n",
       "    </tr>\n",
       "  </thead>\n",
       "  <tbody>\n",
       "    <tr>\n",
       "      <th>1</th>\n",
       "      <td>88</td>\n",
       "      <td>99</td>\n",
       "      <td>90</td>\n",
       "      <td>110</td>\n",
       "      <td>114</td>\n",
       "      <td>93</td>\n",
       "      <td>139</td>\n",
       "      <td>107</td>\n",
       "      <td>95</td>\n",
       "      <td>[78, 102, 59]</td>\n",
       "    </tr>\n",
       "    <tr>\n",
       "      <th>2</th>\n",
       "      <td>99</td>\n",
       "      <td>90</td>\n",
       "      <td>92</td>\n",
       "      <td>114</td>\n",
       "      <td>93</td>\n",
       "      <td>85</td>\n",
       "      <td>107</td>\n",
       "      <td>95</td>\n",
       "      <td>99</td>\n",
       "      <td>[78, 102, 59]</td>\n",
       "    </tr>\n",
       "    <tr>\n",
       "      <th>3</th>\n",
       "      <td>90</td>\n",
       "      <td>92</td>\n",
       "      <td>82</td>\n",
       "      <td>93</td>\n",
       "      <td>85</td>\n",
       "      <td>85</td>\n",
       "      <td>95</td>\n",
       "      <td>99</td>\n",
       "      <td>91</td>\n",
       "      <td>[78, 102, 59]</td>\n",
       "    </tr>\n",
       "    <tr>\n",
       "      <th>4</th>\n",
       "      <td>92</td>\n",
       "      <td>82</td>\n",
       "      <td>80</td>\n",
       "      <td>85</td>\n",
       "      <td>85</td>\n",
       "      <td>93</td>\n",
       "      <td>99</td>\n",
       "      <td>91</td>\n",
       "      <td>114</td>\n",
       "      <td>[78, 102, 59]</td>\n",
       "    </tr>\n",
       "    <tr>\n",
       "      <th>5</th>\n",
       "      <td>82</td>\n",
       "      <td>80</td>\n",
       "      <td>91</td>\n",
       "      <td>85</td>\n",
       "      <td>93</td>\n",
       "      <td>100</td>\n",
       "      <td>91</td>\n",
       "      <td>114</td>\n",
       "      <td>118</td>\n",
       "      <td>[78, 102, 59]</td>\n",
       "    </tr>\n",
       "    <tr>\n",
       "      <th>...</th>\n",
       "      <td>...</td>\n",
       "      <td>...</td>\n",
       "      <td>...</td>\n",
       "      <td>...</td>\n",
       "      <td>...</td>\n",
       "      <td>...</td>\n",
       "      <td>...</td>\n",
       "      <td>...</td>\n",
       "      <td>...</td>\n",
       "      <td>...</td>\n",
       "    </tr>\n",
       "    <tr>\n",
       "      <th>66673</th>\n",
       "      <td>203</td>\n",
       "      <td>203</td>\n",
       "      <td>203</td>\n",
       "      <td>204</td>\n",
       "      <td>204</td>\n",
       "      <td>203</td>\n",
       "      <td>204</td>\n",
       "      <td>204</td>\n",
       "      <td>204</td>\n",
       "      <td>[213, 203, 153]</td>\n",
       "    </tr>\n",
       "    <tr>\n",
       "      <th>66674</th>\n",
       "      <td>203</td>\n",
       "      <td>203</td>\n",
       "      <td>203</td>\n",
       "      <td>204</td>\n",
       "      <td>203</td>\n",
       "      <td>203</td>\n",
       "      <td>204</td>\n",
       "      <td>204</td>\n",
       "      <td>203</td>\n",
       "      <td>[213, 203, 153]</td>\n",
       "    </tr>\n",
       "    <tr>\n",
       "      <th>66675</th>\n",
       "      <td>203</td>\n",
       "      <td>203</td>\n",
       "      <td>202</td>\n",
       "      <td>203</td>\n",
       "      <td>203</td>\n",
       "      <td>202</td>\n",
       "      <td>204</td>\n",
       "      <td>203</td>\n",
       "      <td>202</td>\n",
       "      <td>[213, 203, 153]</td>\n",
       "    </tr>\n",
       "    <tr>\n",
       "      <th>66676</th>\n",
       "      <td>203</td>\n",
       "      <td>202</td>\n",
       "      <td>201</td>\n",
       "      <td>203</td>\n",
       "      <td>202</td>\n",
       "      <td>201</td>\n",
       "      <td>203</td>\n",
       "      <td>202</td>\n",
       "      <td>201</td>\n",
       "      <td>[213, 203, 153]</td>\n",
       "    </tr>\n",
       "    <tr>\n",
       "      <th>66677</th>\n",
       "      <td>202</td>\n",
       "      <td>201</td>\n",
       "      <td>201</td>\n",
       "      <td>202</td>\n",
       "      <td>201</td>\n",
       "      <td>203</td>\n",
       "      <td>202</td>\n",
       "      <td>201</td>\n",
       "      <td>204</td>\n",
       "      <td>[213, 203, 153]</td>\n",
       "    </tr>\n",
       "  </tbody>\n",
       "</table>\n",
       "<p>66677 rows × 10 columns</p>\n",
       "</div>"
      ],
      "text/plain": [
       "       px1  px2  px3  px4  px5  px6  px7  px8  px9            Color\n",
       "1       88   99   90  110  114   93  139  107   95    [78, 102, 59]\n",
       "2       99   90   92  114   93   85  107   95   99    [78, 102, 59]\n",
       "3       90   92   82   93   85   85   95   99   91    [78, 102, 59]\n",
       "4       92   82   80   85   85   93   99   91  114    [78, 102, 59]\n",
       "5       82   80   91   85   93  100   91  114  118    [78, 102, 59]\n",
       "...    ...  ...  ...  ...  ...  ...  ...  ...  ...              ...\n",
       "66673  203  203  203  204  204  203  204  204  204  [213, 203, 153]\n",
       "66674  203  203  203  204  203  203  204  204  203  [213, 203, 153]\n",
       "66675  203  203  202  203  203  202  204  203  202  [213, 203, 153]\n",
       "66676  203  202  201  203  202  201  203  202  201  [213, 203, 153]\n",
       "66677  202  201  201  202  201  203  202  201  204  [213, 203, 153]\n",
       "\n",
       "[66677 rows x 10 columns]"
      ]
     },
     "execution_count": 1568,
     "metadata": {},
     "output_type": "execute_result"
    }
   ],
   "source": [
    "Trainingdataframe = pd.DataFrame(data=trainingDataX,index=range(1,len(trainingDataX)+1), columns= [\"px\"+str(i) for i in range(1,10)] )\n",
    "arr = sparse.coo_matrix(trainout)\n",
    "Trainingdataframe['Color'] = arr.toarray().tolist()\n",
    "Trainingdataframe"
   ]
  },
  {
   "cell_type": "code",
   "execution_count": 1569,
   "metadata": {},
   "outputs": [
    {
     "data": {
      "text/plain": [
       "array([[ 88,  99,  90, ..., 139, 107,  95],\n",
       "       [ 99,  90,  92, ..., 107,  95,  99],\n",
       "       [ 90,  92,  82, ...,  95,  99,  91],\n",
       "       ...,\n",
       "       [203, 203, 202, ..., 204, 203, 202],\n",
       "       [203, 202, 201, ..., 203, 202, 201],\n",
       "       [202, 201, 201, ..., 202, 201, 204]])"
      ]
     },
     "execution_count": 1569,
     "metadata": {},
     "output_type": "execute_result"
    }
   ],
   "source": [
    "trainingDataX"
   ]
  },
  {
   "cell_type": "code",
   "execution_count": 1570,
   "metadata": {},
   "outputs": [],
   "source": [
    "trainingDataY = np.zeros((len(trainout),5),dtype=int)\n",
    "for index,pixel in enumerate(trainout):\n",
    "    trainingDataY[index,np.where((colors == pixel).all(axis=1))] = 1"
   ]
  },
  {
   "cell_type": "code",
   "execution_count": 1571,
   "metadata": {},
   "outputs": [
    {
     "data": {
      "text/plain": [
       "array([[0, 0, 0, 1, 0],\n",
       "       [0, 0, 0, 1, 0],\n",
       "       [0, 0, 0, 1, 0],\n",
       "       ...,\n",
       "       [0, 0, 0, 0, 1],\n",
       "       [0, 0, 0, 0, 1],\n",
       "       [0, 0, 0, 0, 1]])"
      ]
     },
     "execution_count": 1571,
     "metadata": {},
     "output_type": "execute_result"
    }
   ],
   "source": [
    "trainingDataY"
   ]
  },
  {
   "cell_type": "markdown",
   "metadata": {},
   "source": [
    "### Creating Testing Data. "
   ]
  },
  {
   "cell_type": "code",
   "execution_count": 1572,
   "metadata": {},
   "outputs": [],
   "source": [
    "tempfile = open('Variables/testImagePatchArray.pckl', 'rb')\n",
    "testImagePatchArray = pickle.load(tempfile)\n",
    "tempfile.close()\n",
    "testDataX = testImagePatchArray.astype(int)\n",
    "tempfile = open('Variables/expectedtestingOutputImage.pckl', 'rb')\n",
    "testOutputImage = pickle.load(tempfile)\n",
    "tempfile.close()\n",
    "testOutputImage = testOutputImage[1:300,1:224]\n",
    "testout = testOutputImage.reshape(((testOutputImage.shape[0]*testOutputImage.shape[1]),3))"
   ]
  },
  {
   "cell_type": "code",
   "execution_count": 1573,
   "metadata": {},
   "outputs": [
    {
     "data": {
      "text/plain": [
       "array([ 36,  82, 189], dtype=uint8)"
      ]
     },
     "execution_count": 1573,
     "metadata": {},
     "output_type": "execute_result"
    }
   ],
   "source": [
    "testOutputImage[0,0]"
   ]
  },
  {
   "cell_type": "code",
   "execution_count": 1574,
   "metadata": {},
   "outputs": [
    {
     "data": {
      "text/html": [
       "<div>\n",
       "<style scoped>\n",
       "    .dataframe tbody tr th:only-of-type {\n",
       "        vertical-align: middle;\n",
       "    }\n",
       "\n",
       "    .dataframe tbody tr th {\n",
       "        vertical-align: top;\n",
       "    }\n",
       "\n",
       "    .dataframe thead th {\n",
       "        text-align: right;\n",
       "    }\n",
       "</style>\n",
       "<table border=\"1\" class=\"dataframe\">\n",
       "  <thead>\n",
       "    <tr style=\"text-align: right;\">\n",
       "      <th></th>\n",
       "      <th>px1</th>\n",
       "      <th>px2</th>\n",
       "      <th>px3</th>\n",
       "      <th>px4</th>\n",
       "      <th>px5</th>\n",
       "      <th>px6</th>\n",
       "      <th>px7</th>\n",
       "      <th>px8</th>\n",
       "      <th>px9</th>\n",
       "      <th>Color</th>\n",
       "    </tr>\n",
       "  </thead>\n",
       "  <tbody>\n",
       "    <tr>\n",
       "      <th>1</th>\n",
       "      <td>54</td>\n",
       "      <td>55</td>\n",
       "      <td>56</td>\n",
       "      <td>53</td>\n",
       "      <td>54</td>\n",
       "      <td>55</td>\n",
       "      <td>51</td>\n",
       "      <td>52</td>\n",
       "      <td>53</td>\n",
       "      <td>[36, 82, 189]</td>\n",
       "    </tr>\n",
       "    <tr>\n",
       "      <th>2</th>\n",
       "      <td>55</td>\n",
       "      <td>56</td>\n",
       "      <td>57</td>\n",
       "      <td>54</td>\n",
       "      <td>55</td>\n",
       "      <td>56</td>\n",
       "      <td>52</td>\n",
       "      <td>53</td>\n",
       "      <td>55</td>\n",
       "      <td>[36, 82, 189]</td>\n",
       "    </tr>\n",
       "    <tr>\n",
       "      <th>3</th>\n",
       "      <td>56</td>\n",
       "      <td>57</td>\n",
       "      <td>57</td>\n",
       "      <td>55</td>\n",
       "      <td>56</td>\n",
       "      <td>57</td>\n",
       "      <td>53</td>\n",
       "      <td>55</td>\n",
       "      <td>56</td>\n",
       "      <td>[36, 82, 189]</td>\n",
       "    </tr>\n",
       "    <tr>\n",
       "      <th>4</th>\n",
       "      <td>57</td>\n",
       "      <td>57</td>\n",
       "      <td>57</td>\n",
       "      <td>56</td>\n",
       "      <td>57</td>\n",
       "      <td>57</td>\n",
       "      <td>55</td>\n",
       "      <td>56</td>\n",
       "      <td>56</td>\n",
       "      <td>[36, 82, 189]</td>\n",
       "    </tr>\n",
       "    <tr>\n",
       "      <th>5</th>\n",
       "      <td>57</td>\n",
       "      <td>57</td>\n",
       "      <td>57</td>\n",
       "      <td>57</td>\n",
       "      <td>57</td>\n",
       "      <td>57</td>\n",
       "      <td>56</td>\n",
       "      <td>56</td>\n",
       "      <td>56</td>\n",
       "      <td>[36, 82, 189]</td>\n",
       "    </tr>\n",
       "    <tr>\n",
       "      <th>...</th>\n",
       "      <td>...</td>\n",
       "      <td>...</td>\n",
       "      <td>...</td>\n",
       "      <td>...</td>\n",
       "      <td>...</td>\n",
       "      <td>...</td>\n",
       "      <td>...</td>\n",
       "      <td>...</td>\n",
       "      <td>...</td>\n",
       "      <td>...</td>\n",
       "    </tr>\n",
       "    <tr>\n",
       "      <th>66673</th>\n",
       "      <td>123</td>\n",
       "      <td>129</td>\n",
       "      <td>113</td>\n",
       "      <td>108</td>\n",
       "      <td>108</td>\n",
       "      <td>99</td>\n",
       "      <td>103</td>\n",
       "      <td>97</td>\n",
       "      <td>97</td>\n",
       "      <td>[78, 102, 59]</td>\n",
       "    </tr>\n",
       "    <tr>\n",
       "      <th>66674</th>\n",
       "      <td>129</td>\n",
       "      <td>113</td>\n",
       "      <td>110</td>\n",
       "      <td>108</td>\n",
       "      <td>99</td>\n",
       "      <td>96</td>\n",
       "      <td>97</td>\n",
       "      <td>97</td>\n",
       "      <td>93</td>\n",
       "      <td>[78, 102, 59]</td>\n",
       "    </tr>\n",
       "    <tr>\n",
       "      <th>66675</th>\n",
       "      <td>113</td>\n",
       "      <td>110</td>\n",
       "      <td>97</td>\n",
       "      <td>99</td>\n",
       "      <td>96</td>\n",
       "      <td>94</td>\n",
       "      <td>97</td>\n",
       "      <td>93</td>\n",
       "      <td>101</td>\n",
       "      <td>[78, 102, 59]</td>\n",
       "    </tr>\n",
       "    <tr>\n",
       "      <th>66676</th>\n",
       "      <td>110</td>\n",
       "      <td>97</td>\n",
       "      <td>97</td>\n",
       "      <td>96</td>\n",
       "      <td>94</td>\n",
       "      <td>98</td>\n",
       "      <td>93</td>\n",
       "      <td>101</td>\n",
       "      <td>108</td>\n",
       "      <td>[78, 102, 59]</td>\n",
       "    </tr>\n",
       "    <tr>\n",
       "      <th>66677</th>\n",
       "      <td>97</td>\n",
       "      <td>97</td>\n",
       "      <td>94</td>\n",
       "      <td>94</td>\n",
       "      <td>98</td>\n",
       "      <td>102</td>\n",
       "      <td>101</td>\n",
       "      <td>108</td>\n",
       "      <td>114</td>\n",
       "      <td>[78, 102, 59]</td>\n",
       "    </tr>\n",
       "  </tbody>\n",
       "</table>\n",
       "<p>66677 rows × 10 columns</p>\n",
       "</div>"
      ],
      "text/plain": [
       "       px1  px2  px3  px4  px5  px6  px7  px8  px9          Color\n",
       "1       54   55   56   53   54   55   51   52   53  [36, 82, 189]\n",
       "2       55   56   57   54   55   56   52   53   55  [36, 82, 189]\n",
       "3       56   57   57   55   56   57   53   55   56  [36, 82, 189]\n",
       "4       57   57   57   56   57   57   55   56   56  [36, 82, 189]\n",
       "5       57   57   57   57   57   57   56   56   56  [36, 82, 189]\n",
       "...    ...  ...  ...  ...  ...  ...  ...  ...  ...            ...\n",
       "66673  123  129  113  108  108   99  103   97   97  [78, 102, 59]\n",
       "66674  129  113  110  108   99   96   97   97   93  [78, 102, 59]\n",
       "66675  113  110   97   99   96   94   97   93  101  [78, 102, 59]\n",
       "66676  110   97   97   96   94   98   93  101  108  [78, 102, 59]\n",
       "66677   97   97   94   94   98  102  101  108  114  [78, 102, 59]\n",
       "\n",
       "[66677 rows x 10 columns]"
      ]
     },
     "execution_count": 1574,
     "metadata": {},
     "output_type": "execute_result"
    }
   ],
   "source": [
    "Testingdataframe = pd.DataFrame(data=testDataX,index=range(1,len(testDataX)+1), columns= [\"px\"+str(i) for i in range(1,10)] )\n",
    "arr = sparse.coo_matrix(testout)\n",
    "Testingdataframe['Color'] = arr.toarray().tolist()\n",
    "Testingdataframe"
   ]
  },
  {
   "cell_type": "code",
   "execution_count": 1575,
   "metadata": {},
   "outputs": [],
   "source": [
    "testDataY = np.zeros((len(testout),5),dtype=int)\n",
    "for index,pixel in enumerate(testout):\n",
    "    testDataY[index,np.where((colors == pixel).all(axis=1))] = 1"
   ]
  },
  {
   "cell_type": "code",
   "execution_count": 1576,
   "metadata": {},
   "outputs": [
    {
     "data": {
      "text/plain": [
       "array([[ 54,  55,  56, ...,  51,  52,  53],\n",
       "       [ 55,  56,  57, ...,  52,  53,  55],\n",
       "       [ 56,  57,  57, ...,  53,  55,  56],\n",
       "       ...,\n",
       "       [113, 110,  97, ...,  97,  93, 101],\n",
       "       [110,  97,  97, ...,  93, 101, 108],\n",
       "       [ 97,  97,  94, ..., 101, 108, 114]])"
      ]
     },
     "execution_count": 1576,
     "metadata": {},
     "output_type": "execute_result"
    }
   ],
   "source": [
    "testDataX"
   ]
  },
  {
   "cell_type": "code",
   "execution_count": 1577,
   "metadata": {},
   "outputs": [
    {
     "data": {
      "text/plain": [
       "array([[1, 0, 0, 0, 0],\n",
       "       [1, 0, 0, 0, 0],\n",
       "       [1, 0, 0, 0, 0],\n",
       "       ...,\n",
       "       [0, 0, 0, 1, 0],\n",
       "       [0, 0, 0, 1, 0],\n",
       "       [0, 0, 0, 1, 0]])"
      ]
     },
     "execution_count": 1577,
     "metadata": {},
     "output_type": "execute_result"
    }
   ],
   "source": [
    "testDataY"
   ]
  },
  {
   "cell_type": "markdown",
   "metadata": {},
   "source": [
    "### Shuffling data"
   ]
  },
  {
   "cell_type": "code",
   "execution_count": 1578,
   "metadata": {},
   "outputs": [],
   "source": [
    "trainingDataXnorm = (trainingDataX - np.mean(trainingDataX,axis=0))/np.std(trainingDataX,axis=0)"
   ]
  },
  {
   "cell_type": "code",
   "execution_count": 1579,
   "metadata": {},
   "outputs": [
    {
     "data": {
      "text/plain": [
       "array([[-0.22849788, -0.06768575, -0.20424077, ...,  0.51197316,\n",
       "         0.03706409, -0.14321361],\n",
       "       [-0.06529404, -0.20146222, -0.17445561, ...,  0.03929087,\n",
       "        -0.14051915, -0.08390539],\n",
       "       [-0.19882445, -0.17173412, -0.32338141, ..., -0.13796499,\n",
       "        -0.08132474, -0.20252184],\n",
       "       ...,\n",
       "       [ 1.47772407,  1.47817567,  1.46372815, ...,  1.47210906,\n",
       "         1.45773001,  1.44328139],\n",
       "       [ 1.47772407,  1.46331162,  1.44883557, ...,  1.45733774,\n",
       "         1.44293141,  1.42845433],\n",
       "       [ 1.46288736,  1.44844756,  1.44883557, ...,  1.44256642,\n",
       "         1.4281328 ,  1.4729355 ]])"
      ]
     },
     "execution_count": 1579,
     "metadata": {},
     "output_type": "execute_result"
    }
   ],
   "source": [
    "trainingDataXnorm"
   ]
  },
  {
   "cell_type": "code",
   "execution_count": 1580,
   "metadata": {},
   "outputs": [],
   "source": [
    "shuffledindex = np.random.choice(range(0,len(trainingDataXnorm)),len(trainingDataXnorm),replace=False)"
   ]
  },
  {
   "cell_type": "code",
   "execution_count": 1581,
   "metadata": {},
   "outputs": [],
   "source": [
    "trainingDataXnorm = trainingDataXnorm[shuffledindex]\n",
    "trainingDataY = trainingDataY[shuffledindex]"
   ]
  },
  {
   "cell_type": "code",
   "execution_count": 1582,
   "metadata": {},
   "outputs": [
    {
     "data": {
      "text/plain": [
       "array([[0, 1, 0, 0, 0],\n",
       "       [1, 0, 0, 0, 0],\n",
       "       [0, 0, 0, 1, 0],\n",
       "       ...,\n",
       "       [0, 0, 0, 1, 0],\n",
       "       [0, 0, 0, 0, 1],\n",
       "       [0, 0, 1, 0, 0]])"
      ]
     },
     "execution_count": 1582,
     "metadata": {},
     "output_type": "execute_result"
    }
   ],
   "source": [
    "trainingDataY"
   ]
  },
  {
   "cell_type": "code",
   "execution_count": 1583,
   "metadata": {},
   "outputs": [],
   "source": [
    "#softmax function\n",
    "def softmax(XW):\n",
    "    XW -= np.max(XW)\n",
    "    prob = (np.exp(XW).T/ np.sum(np.exp(XW),axis=1)).T\n",
    "    return prob\n",
    "\n",
    "#loss function\n",
    "def loss(W,X,Y):\n",
    "    prob = softmax(np.dot(X,W))\n",
    "    N = len(Y)\n",
    "    lvalue = ((-1 / N) * np.sum(Y * np.log(prob)))\n",
    "    return lvalue\n",
    "    \n",
    "#loss function\n",
    "def gradient(W,X,Y):\n",
    "    prob = softmax(np.dot(X,W))\n",
    "    N = len(Y)\n",
    "    galue = ((-1 / N) * np.dot(X.T,(Y - prob)))\n",
    "    return galue\n",
    "    \n",
    "#loss function\n",
    "def predict(prob):\n",
    "    preds = np.argmax(prob,axis=1)\n",
    "    predcolors = [colors[index] for index in preds]\n",
    "    return np.asarray(predcolors)\n",
    "\n",
    "#accuracy\n",
    "def accuracy(predicted,actual):\n",
    "    accuracy = (np.sum(np.equal(predicted,actual).all(axis=1))/len(actual))*100\n",
    "    return accuracy\n",
    "    \n",
    "#return minibatch\n",
    "def minibatch(X,Y,batchSize):\n",
    "    initialpoint = np.random.randint(0, Y.shape[0] - batchSize - 1) \n",
    "    Xbatch = X[initialpoint:(initialpoint + batchSize)] \n",
    "    Ybatch = Y[initialpoint:(initialpoint + batchSize)]\n",
    "    return Xbatch,Ybatch\n",
    "    "
   ]
  },
  {
   "cell_type": "code",
   "execution_count": 1584,
   "metadata": {},
   "outputs": [
    {
     "name": "stdout",
     "output_type": "stream",
     "text": [
      "3.53445354237353 2.3715969904035776\n",
      "3.057431140920405 4.027941154778354\n",
      "3.2220470788037354 0.37612579355953474\n",
      "3.222047103397637 7.447189987418093e-06\n",
      "3\n",
      "[[-0.73760858 -0.08666723 -0.08666723 -0.08666723  0.99761026]\n",
      " [-0.75309081 -0.08023648 -0.08023648 -0.08023648  0.99380025]\n",
      " [-0.76608145 -0.07461674 -0.07461674 -0.07461674  0.98993168]\n",
      " [-0.74281165 -0.08867328 -0.08867328 -0.08867328  1.00883149]\n",
      " [-0.75828927 -0.08225405 -0.08225405 -0.08225405  1.00505142]\n",
      " [-0.75668404 -0.08311968 -0.08311968 -0.08311968  1.00604309]\n",
      " [-0.73347543 -0.08667661 -0.08667661 -0.08667661  0.99350525]\n",
      " [-0.75163008 -0.08200033 -0.08200033 -0.08200033  0.99763108]\n",
      " [-0.7646119  -0.08163311 -0.08163311 -0.08163311  1.00951122]]\n"
     ]
    }
   ],
   "source": [
    "W = np.zeros((9,5))\n",
    "batchSize = 1\n",
    "alpha = 1\n",
    "previousloss = 0\n",
    "for i in range(0,100): \n",
    "    minibatchX,minibatchY = minibatch(trainingDataXnorm,trainingDataY,batchSize)   \n",
    "    gred = gradient(W,minibatchX,minibatchY)\n",
    "    alpha = alpha/np.sqrt(i+1)\n",
    "    W = W - (alpha*gred)\n",
    "    loss_value = loss(W,trainingDataXnorm,trainingDataY)\n",
    "    print(loss_value,np.linalg.norm(gred,2))\n",
    "    if np.abs(previousloss - loss_value) < 0.00001*previousloss:\n",
    "        break\n",
    "    previousloss = loss_value\n",
    "print(i)\n",
    "print(W)\n",
    "\n",
    "    "
   ]
  },
  {
   "cell_type": "code",
   "execution_count": 1585,
   "metadata": {},
   "outputs": [],
   "source": [
    "testDataX1 = (testDataX - np.mean(testDataX,axis=0))/np.std(testDataX,axis=0)"
   ]
  },
  {
   "cell_type": "code",
   "execution_count": 1586,
   "metadata": {},
   "outputs": [],
   "source": [
    "rawscore = np.dot(testDataX1,W)"
   ]
  },
  {
   "cell_type": "code",
   "execution_count": 1587,
   "metadata": {},
   "outputs": [
    {
     "data": {
      "text/plain": [
       "array([[9.99987302e-01, 4.23258364e-06, 4.23258364e-06, 4.23258364e-06,\n",
       "        8.32967199e-15],\n",
       "       [9.99984243e-01, 5.25235027e-06, 5.25235027e-06, 5.25235027e-06,\n",
       "        1.46553975e-14],\n",
       "       [9.99980889e-01, 6.37047228e-06, 6.37047228e-06, 6.37047228e-06,\n",
       "        2.43373586e-14],\n",
       "       ...,\n",
       "       [9.09488566e-01, 3.01297767e-02, 3.01297767e-02, 3.01297767e-02,\n",
       "        1.22104361e-04],\n",
       "       [9.18866935e-01, 2.70145344e-02, 2.70145344e-02, 2.70145344e-02,\n",
       "        8.94615978e-05],\n",
       "       [8.98733038e-01, 3.37008389e-02, 3.37008389e-02, 3.37008389e-02,\n",
       "        1.64445298e-04]])"
      ]
     },
     "execution_count": 1587,
     "metadata": {},
     "output_type": "execute_result"
    }
   ],
   "source": [
    "prob = softmax(rawscore)\n",
    "prob"
   ]
  },
  {
   "cell_type": "code",
   "execution_count": 1588,
   "metadata": {},
   "outputs": [
    {
     "data": {
      "text/plain": [
       "array([0, 0, 0, ..., 0, 0, 0], dtype=int64)"
      ]
     },
     "execution_count": 1588,
     "metadata": {},
     "output_type": "execute_result"
    }
   ],
   "source": [
    "preds = np.argmax(prob,axis=1)\n",
    "preds"
   ]
  },
  {
   "cell_type": "code",
   "execution_count": 1589,
   "metadata": {},
   "outputs": [],
   "source": [
    "a = predict(prob)"
   ]
  },
  {
   "cell_type": "code",
   "execution_count": 1590,
   "metadata": {},
   "outputs": [
    {
     "data": {
      "text/plain": [
       "(66677, 3)"
      ]
     },
     "execution_count": 1590,
     "metadata": {},
     "output_type": "execute_result"
    }
   ],
   "source": [
    "a.shape"
   ]
  },
  {
   "cell_type": "code",
   "execution_count": 1591,
   "metadata": {},
   "outputs": [
    {
     "data": {
      "text/plain": [
       "31.77257525083612"
      ]
     },
     "execution_count": 1591,
     "metadata": {},
     "output_type": "execute_result"
    }
   ],
   "source": [
    "accuracy(a,testout)"
   ]
  },
  {
   "cell_type": "code",
   "execution_count": 1592,
   "metadata": {},
   "outputs": [],
   "source": [
    "a = a.reshape((299,223,3))"
   ]
  },
  {
   "cell_type": "code",
   "execution_count": 1594,
   "metadata": {},
   "outputs": [],
   "source": [
    "import matplotlib.pyplot as plt"
   ]
  },
  {
   "cell_type": "code",
   "execution_count": 1595,
   "metadata": {},
   "outputs": [
    {
     "data": {
      "text/plain": [
       "<matplotlib.image.AxesImage at 0x10f0b9938b0>"
      ]
     },
     "execution_count": 1595,
     "metadata": {},
     "output_type": "execute_result"
    },
    {
     "data": {
      "image/png": "[encoded data removed]",
      "text/plain": [
       "<Figure size 432x288 with 1 Axes>"
      ]
     },
     "metadata": {
      "needs_background": "light"
     },
     "output_type": "display_data"
    }
   ],
   "source": [
    "plt.imshow(trainingOutputImage)"
   ]
  },
  {
   "cell_type": "code",
   "execution_count": 1596,
   "metadata": {},
   "outputs": [
    {
     "data": {
      "text/plain": [
       "<matplotlib.image.AxesImage at 0x10f074437c0>"
      ]
     },
     "execution_count": 1596,
     "metadata": {},
     "output_type": "execute_result"
    },
    {
     "data": {
      "image/png": "[encoded data removed]",
      "text/plain": [
       "<Figure size 432x288 with 1 Axes>"
      ]
     },
     "metadata": {
      "needs_background": "light"
     },
     "output_type": "display_data"
    }
   ],
   "source": [
    "plt.imshow(a)"
   ]
  },
  {
   "cell_type": "code",
   "execution_count": 1597,
   "metadata": {},
   "outputs": [],
   "source": [
    "import skimage.io as skio\n",
    "trainingInputImage = skio.imread(fname=\"trainingInputImage.jpg\")"
   ]
  },
  {
   "cell_type": "code",
   "execution_count": 1598,
   "metadata": {},
   "outputs": [
    {
     "data": {
      "text/plain": [
       "<matplotlib.image.AxesImage at 0x10f074938b0>"
      ]
     },
     "execution_count": 1598,
     "metadata": {},
     "output_type": "execute_result"
    },
    {
     "data": {
      "image/png": "[encoded data removed]",
      "text/plain": [
       "<Figure size 432x288 with 1 Axes>"
      ]
     },
     "metadata": {
      "needs_background": "light"
     },
     "output_type": "display_data"
    }
   ],
   "source": [
    "plt.imshow(trainingInputImage,cmap=plt.cm.gray)"
   ]
  },
  {
   "cell_type": "code",
   "execution_count": 1599,
   "metadata": {},
   "outputs": [
    {
     "data": {
      "text/plain": [
       "array([[ 88,  99,  90, ...,  53,  53,  53],\n",
       "       [110, 114,  93, ...,  51,  51,  52],\n",
       "       [139, 107,  95, ...,  49,  48,  51],\n",
       "       ...,\n",
       "       [169, 171, 173, ..., 202, 201, 201],\n",
       "       [164, 164, 166, ..., 202, 201, 203],\n",
       "       [161, 158, 160, ..., 202, 201, 204]], dtype=uint8)"
      ]
     },
     "execution_count": 1599,
     "metadata": {},
     "output_type": "execute_result"
    }
   ],
   "source": [
    "trainingInputImage"
   ]
  },
  {
   "cell_type": "code",
   "execution_count": 1600,
   "metadata": {},
   "outputs": [
    {
     "data": {
      "text/plain": [
       "array([ 88.,  99.,  90., 110., 114.,  93., 139., 107.,  95.])"
      ]
     },
     "execution_count": 1600,
     "metadata": {},
     "output_type": "execute_result"
    }
   ],
   "source": [
    "trainImagePatchArray[0]"
   ]
  },
  {
   "cell_type": "code",
   "execution_count": 1601,
   "metadata": {},
   "outputs": [
    {
     "data": {
      "text/plain": [
       "array([ 36,  82, 189], dtype=uint8)"
      ]
     },
     "execution_count": 1601,
     "metadata": {},
     "output_type": "execute_result"
    }
   ],
   "source": [
    "trainingOutputImage[0,200]"
   ]
  },
  {
   "cell_type": "code",
   "execution_count": 1602,
   "metadata": {},
   "outputs": [
    {
     "data": {
      "text/plain": [
       "array([[0, 1, 0, 0, 0],\n",
       "       [1, 0, 0, 0, 0],\n",
       "       [0, 0, 0, 1, 0],\n",
       "       ...,\n",
       "       [0, 0, 0, 1, 0],\n",
       "       [0, 0, 0, 0, 1],\n",
       "       [0, 0, 1, 0, 0]])"
      ]
     },
     "execution_count": 1602,
     "metadata": {},
     "output_type": "execute_result"
    }
   ],
   "source": [
    "trainingDataY"
   ]
  },
  {
   "cell_type": "code",
   "execution_count": 1603,
   "metadata": {},
   "outputs": [
    {
     "data": {
      "text/plain": [
       "array([[ 36,  82, 189],\n",
       "       [ 17,  31,  12],\n",
       "       [ 94, 151, 204],\n",
       "       [ 78, 102,  59],\n",
       "       [213, 203, 153]])"
      ]
     },
     "execution_count": 1603,
     "metadata": {},
     "output_type": "execute_result"
    }
   ],
   "source": [
    "colors"
   ]
  },
  {
   "cell_type": "code",
   "execution_count": null,
   "metadata": {},
   "outputs": [],
   "source": []
  }
 ],
 "metadata": {
  "kernelspec": {
   "display_name": "Python 3",
   "language": "python",
   "name": "python3"
  },
  "language_info": {
   "codemirror_mode": {
    "name": "ipython",
    "version": 3
   },
   "file_extension": ".py",
   "mimetype": "text/x-python",
   "name": "python",
   "nbconvert_exporter": "python",
   "pygments_lexer": "ipython3",
   "version": "3.8.3"
  }
 },
 "nbformat": 4,
 "nbformat_minor": 4
}
